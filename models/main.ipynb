{
  "nbformat": 4,
  "nbformat_minor": 0,
  "metadata": {
    "colab": {
      "name": "main.ipynb",
      "provenance": [],
      "collapsed_sections": [],
      "toc_visible": true
    },
    "kernelspec": {
      "name": "python3",
      "display_name": "Python 3"
    },
    "language_info": {
      "name": "python"
    }
  },
  "cells": [
    {
      "cell_type": "code",
      "metadata": {
        "id": "14EUS2uO7cza"
      },
      "source": [
        "import os\n",
        "import random\n",
        "import shutil\n",
        "import warnings\n",
        "\n",
        "import matplotlib\n",
        "matplotlib.use(\"TKAgg\")"
      ],
      "execution_count": 1,
      "outputs": []
    },
    {
      "cell_type": "code",
      "metadata": {
        "id": "RUqjM-G2-Nix"
      },
      "source": [
        "import cv2\n",
        "import matplotlib.pyplot as plt\n",
        "import numpy as np\n",
        "from imutils import paths\n",
        "from tensorflow.keras.applications.mobilenet import preprocess_input\n",
        "from tensorflow.keras.preprocessing.image import ImageDataGenerator\n",
        "from sklearn.model_selection import train_test_split\n",
        "from tensorflow.keras.layers import Dense, Dropout\n",
        "from tensorflow.keras.models import Model\n",
        "from tensorflow.keras.optimizers import Adam"
      ],
      "execution_count": null,
      "outputs": []
    },
    {
      "cell_type": "code",
      "metadata": {
        "id": "-ipOnKqj-QY-"
      },
      "source": [
        "from VGG16 import VGG16\n",
        "from mobileNet import mobileNet\n",
        "from VGG19 import VGG19\n",
        "from Resnet50 import Resnet50\n",
        "from inception import inception\n",
        "from utility import train, evaluate"
      ],
      "execution_count": null,
      "outputs": []
    },
    {
      "cell_type": "code",
      "metadata": {
        "id": "M64w1N62-WQq"
      },
      "source": [
        "plt.style.use('fivethirtyeight')\n",
        "plt.rcParams['figure.figsize'] = [10, 5]\n",
        "warnings.filterwarnings(\"ignore\", category=FutureWarning)"
      ],
      "execution_count": null,
      "outputs": []
    },
    {
      "cell_type": "code",
      "metadata": {
        "id": "SAsCLW4C-aIr"
      },
      "source": [
        "dataset = 'COVID-Datasets'\n",
        "imagePaths = sorted(list(paths.list_images(dataset)))\n",
        "random.seed(42)\n",
        "random.shuffle(imagePaths)"
      ],
      "execution_count": null,
      "outputs": []
    },
    {
      "cell_type": "code",
      "metadata": {
        "id": "ySeKFylw-e4E"
      },
      "source": [
        "imagesData = []\n",
        "labels = []\n",
        "\n",
        "codeLabel = {1: 'COVID', 0: 'Normal'}\n",
        "labelCode = {}\n",
        "for k, v in codeLabel.items():\n",
        "    labelCode[v] = k\n",
        "\n",
        "if not os.path.isdir(\"./models\"):\n",
        "    print(\"Creating directory to store models\")\n",
        "    os.mkdir(\"./models\")\n",
        "\n",
        "temp = {}\n",
        "np.save('./models/labelName.npy', codeLabel)"
      ],
      "execution_count": null,
      "outputs": []
    },
    {
      "cell_type": "code",
      "metadata": {
        "id": "IAUc4o_T-mbe"
      },
      "source": [
        "for i, imagePath in enumerate(imagePaths):\n",
        "    try:\n",
        "        image = cv2.imread(imagePath, 1)\n",
        "        image = image[..., ::-1]\n",
        "        image = cv2.resize(image, (224, 224))\n",
        "        image = (image / 255.).astype(np.float32)\n",
        "\n",
        "        label = imagePath.split(os.path.sep)[-2]\n",
        "        if label not in temp:\n",
        "            temp[label] = 1\n",
        "        else:\n",
        "            temp[label] += 1\n",
        "        if temp[label] <= 360:\n",
        "            imagesData.append(image)\n",
        "            labels.append(labelCode[label])\n",
        "\n",
        "    except (FileNotFoundError, Exception) as e:\n",
        "        print(imagePath)\n",
        "        pass\n",
        "\n",
        "labels = np.array(labels)\n",
        "print(\"Output data shape : \", labels.shape)"
      ],
      "execution_count": null,
      "outputs": []
    },
    {
      "cell_type": "code",
      "metadata": {
        "id": "-lFKxC5Q-uR2"
      },
      "source": [
        "# splitting dataset\n",
        "trainX, testX, trainY, testY = train_test_split(imagesData, labels, test_size=0.2)\n",
        "\n",
        "print(np.array(trainX).shape)\n",
        "print(np.array(trainY).shape)"
      ],
      "execution_count": null,
      "outputs": []
    },
    {
      "cell_type": "code",
      "metadata": {
        "id": "B3-qxpqX-v94"
      },
      "source": [
        "# Create the directory structure\n",
        "base_dir = 'dataDir'\n",
        "if not os.path.isdir(base_dir):\n",
        "    print(\"Creating base_dir\")\n",
        "    os.mkdir(base_dir)"
      ],
      "execution_count": null,
      "outputs": []
    },
    {
      "cell_type": "code",
      "metadata": {
        "id": "bxN4pOV0-zXr"
      },
      "source": [
        "# train_dir\n",
        "train_dir = os.path.join(base_dir, 'train_dir')\n",
        "if not os.path.isdir(train_dir):\n",
        "    print(\"Creating train_dir\")\n",
        "    os.mkdir(train_dir)"
      ],
      "execution_count": null,
      "outputs": []
    },
    {
      "cell_type": "code",
      "metadata": {
        "id": "qeXaGOz0-2Po"
      },
      "source": [
        "# val_dir\n",
        "val_dir = os.path.join(base_dir, 'val_dir')\n",
        "if not os.path.isdir(val_dir):\n",
        "    print(\"Creating val_dir\")\n",
        "    os.mkdir(val_dir)"
      ],
      "execution_count": null,
      "outputs": []
    },
    {
      "cell_type": "code",
      "metadata": {
        "id": "Hk9DAIS0-5QS"
      },
      "source": [
        "idx = 1\n",
        "for image, label in zip(trainX, trainY):\n",
        "    label_dir = os.path.join(train_dir, str(label))\n",
        "    if not os.path.isdir(label_dir):\n",
        "        os.mkdir(label_dir)\n",
        "    dst = os.path.join(label_dir, \"label_{}.png\".format(idx))\n",
        "    image = cv2.convertScaleAbs(image, alpha=(255.0))\n",
        "    cv2.imwrite(dst, image)\n",
        "    idx += 1\n",
        "\n",
        "idx = 1\n",
        "for image, label in zip(testX, testY):\n",
        "    label_dir = os.path.join(val_dir, str(label))\n",
        "    if not os.path.isdir(label_dir):\n",
        "        os.mkdir(label_dir)\n",
        "    dst = os.path.join(label_dir, \"label_{}.png\".format(idx))\n",
        "    image = cv2.convertScaleAbs(image, alpha=(255.0))\n",
        "    cv2.imwrite(dst, image)\n",
        "    idx += 1"
      ],
      "execution_count": null,
      "outputs": []
    },
    {
      "cell_type": "code",
      "metadata": {
        "id": "25by6E5F_F-b"
      },
      "source": [
        "# Set Up the Generators\n",
        "train_path = 'dataDir/train_dir'\n",
        "val_path = 'dataDir/val_dir'\n",
        "\n",
        "datagen = ImageDataGenerator(preprocessing_function=preprocess_input)\n",
        "\n",
        "train_gen = datagen.flow_from_directory(train_path, target_size=(224, 224), batch_size=64)\n",
        "\n",
        "val_gen = datagen.flow_from_directory(val_path, target_size=(224, 224), batch_size=64)\n",
        "\n",
        "test_gen = datagen.flow_from_directory(val_path, target_size=(224, 224), batch_size=1, shuffle=False)"
      ],
      "execution_count": null,
      "outputs": []
    },
    {
      "cell_type": "code",
      "metadata": {
        "id": "rx3JJIB5_LfA"
      },
      "source": [
        "# ~~~~~~~~~~~~~~~~~~~~~~~~~~~~~~~~~~~~~~~~~ mobileNet model ~~~~~~~~~~~~~~~~~~~~~~~~~~~~~~~~~~~~~~~~~\n",
        "# defining mobileNet model\n",
        "print(\"Defining mobileNet model\")\n",
        "model = mobileNet()\n",
        "model.summary()\n",
        "\n",
        "print()\n",
        "print(\"Total number of layers in Model :\", len(model.layers))\n",
        "\n",
        "x = model.layers[-6].output\n",
        "x = Dropout(0.25)(x)\n",
        "predictions = Dense(len(set(labels)), activation='softmax')(x)\n",
        "models = Model(inputs=model.input, outputs=predictions)\n",
        "\n",
        "models.summary()\n",
        "\n",
        "for layer in models.layers[:-23]:\n",
        "    layer.trainable = False\n",
        "\n",
        "models.compile(loss='categorical_crossentropy', optimizer=Adam(), metrics=['accuracy'])\n",
        "\n",
        "# training the model MobileNet\n",
        "print(\"Training the model MobileNet\")\n",
        "train(\"MobileNet\", models, train_gen, val_gen)\n",
        "\n",
        "print(\"Evaluating the model MobileNet\")\n",
        "evaluate(\"MobileNet\", test_gen)"
      ],
      "execution_count": null,
      "outputs": []
    }
  ]
}